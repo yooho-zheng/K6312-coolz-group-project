{
 "cells": [
  {
   "cell_type": "code",
   "execution_count": 2,
   "id": "af3fe774",
   "metadata": {},
   "outputs": [],
   "source": [
    "#Import all the libraries needed for clustering model\n",
    "import pandas as pd\n",
    "import numpy as np\n",
    "import random\n",
    "import matplotlib.pyplot as plt\n",
    "from sklearn.cluster import KMeans\n",
    "from sklearn.feature_extraction.text import TfidfVectorizer\n",
    "%matplotlib inline"
   ]
  },
  {
   "cell_type": "code",
   "execution_count": 22,
   "id": "70b77ead",
   "metadata": {},
   "outputs": [
    {
     "data": {
      "text/html": [
       "<div>\n",
       "<style scoped>\n",
       "    .dataframe tbody tr th:only-of-type {\n",
       "        vertical-align: middle;\n",
       "    }\n",
       "\n",
       "    .dataframe tbody tr th {\n",
       "        vertical-align: top;\n",
       "    }\n",
       "\n",
       "    .dataframe thead th {\n",
       "        text-align: right;\n",
       "    }\n",
       "</style>\n",
       "<table border=\"1\" class=\"dataframe\">\n",
       "  <thead>\n",
       "    <tr style=\"text-align: right;\">\n",
       "      <th></th>\n",
       "      <th>Comment</th>\n",
       "      <th>Star</th>\n",
       "      <th>sentiment</th>\n",
       "    </tr>\n",
       "  </thead>\n",
       "  <tbody>\n",
       "    <tr>\n",
       "      <th>1</th>\n",
       "      <td>失望 剧本 完全 敷衍了事 主线 剧情 没 突破 理解 人物 缺乏 动机 正邪 之间 妇...</td>\n",
       "      <td>2.0</td>\n",
       "      <td>0</td>\n",
       "    </tr>\n",
       "    <tr>\n",
       "      <th>2</th>\n",
       "      <td>年度 失望 作品 面面俱到 实则 画蛇添足 主题深刻 实则 老调重弹 推陈出新 实则 俗...</td>\n",
       "      <td>2.0</td>\n",
       "      <td>0</td>\n",
       "    </tr>\n",
       "    <tr>\n",
       "      <th>3</th>\n",
       "      <td>铁人 中 勾引 钢铁 侠 妇联 中 勾引 鹰眼 美队 中 勾引 美国 队长 妇联 中 终...</td>\n",
       "      <td>4.0</td>\n",
       "      <td>1</td>\n",
       "    </tr>\n",
       "    <tr>\n",
       "      <th>4</th>\n",
       "      <td>打到 尾 真的 无聊</td>\n",
       "      <td>2.0</td>\n",
       "      <td>0</td>\n",
       "    </tr>\n",
       "    <tr>\n",
       "      <th>6</th>\n",
       "      <td>一颗 彩蛋 降一星 外加 漫威 编剧 有心无力 复仇者 联盟 只能 永远 着手 团队 这...</td>\n",
       "      <td>2.0</td>\n",
       "      <td>0</td>\n",
       "    </tr>\n",
       "    <tr>\n",
       "      <th>...</th>\n",
       "      <td>...</td>\n",
       "      <td>...</td>\n",
       "      <td>...</td>\n",
       "    </tr>\n",
       "    <tr>\n",
       "      <th>76431</th>\n",
       "      <td>全员 演技 在线 百合 味 很浓 深得 朕 心 233</td>\n",
       "      <td>4.0</td>\n",
       "      <td>1</td>\n",
       "    </tr>\n",
       "    <tr>\n",
       "      <th>76432</th>\n",
       "      <td>不想 消失 背负 世界 所有人 谎言 中</td>\n",
       "      <td>4.0</td>\n",
       "      <td>1</td>\n",
       "    </tr>\n",
       "    <tr>\n",
       "      <th>76433</th>\n",
       "      <td>周 冬雨 演 非主流 挺 专业 真 高圆圆</td>\n",
       "      <td>4.0</td>\n",
       "      <td>1</td>\n",
       "    </tr>\n",
       "    <tr>\n",
       "      <th>76434</th>\n",
       "      <td>口碑 不错 真的 不错 尴尬 配乐   演技 100 分 剧情 流畅 故事 讲清楚   觉得</td>\n",
       "      <td>4.0</td>\n",
       "      <td>1</td>\n",
       "    </tr>\n",
       "    <tr>\n",
       "      <th>76435</th>\n",
       "      <td>20160918 苏州 卢米 埃 故事 矫情 看好 周 冬雨 演技</td>\n",
       "      <td>4.0</td>\n",
       "      <td>1</td>\n",
       "    </tr>\n",
       "  </tbody>\n",
       "</table>\n",
       "<p>61710 rows × 3 columns</p>\n",
       "</div>"
      ],
      "text/plain": [
       "                                                 Comment  Star  sentiment\n",
       "1        失望 剧本 完全 敷衍了事 主线 剧情 没 突破 理解 人物 缺乏 动机 正邪 之间 妇...   2.0          0\n",
       "2        年度 失望 作品 面面俱到 实则 画蛇添足 主题深刻 实则 老调重弹 推陈出新 实则 俗...   2.0          0\n",
       "3        铁人 中 勾引 钢铁 侠 妇联 中 勾引 鹰眼 美队 中 勾引 美国 队长 妇联 中 终...   4.0          1\n",
       "4                                            打到 尾 真的 无聊    2.0          0\n",
       "6        一颗 彩蛋 降一星 外加 漫威 编剧 有心无力 复仇者 联盟 只能 永远 着手 团队 这...   2.0          0\n",
       "...                                                  ...   ...        ...\n",
       "76431                       全员 演技 在线 百合 味 很浓 深得 朕 心 233    4.0          1\n",
       "76432                              不想 消失 背负 世界 所有人 谎言 中    4.0          1\n",
       "76433                             周 冬雨 演 非主流 挺 专业 真 高圆圆    4.0          1\n",
       "76434    口碑 不错 真的 不错 尴尬 配乐   演技 100 分 剧情 流畅 故事 讲清楚   觉得    4.0          1\n",
       "76435                 20160918 苏州 卢米 埃 故事 矫情 看好 周 冬雨 演技    4.0          1\n",
       "\n",
       "[61710 rows x 3 columns]"
      ]
     },
     "execution_count": 22,
     "metadata": {},
     "output_type": "execute_result"
    }
   ],
   "source": [
    "#Read the Raw data into dataframe and lable the sentiment of each record\n",
    "df = pd.read_csv('res_dep8.csv')\n",
    "df = df.drop(df[df['Star'] == 3].index)\n",
    "df['sentiment']=np.where(df['Star']>2 ,1,0)\n",
    "df"
   ]
  },
  {
   "cell_type": "code",
   "execution_count": 23,
   "id": "aa419569",
   "metadata": {},
   "outputs": [],
   "source": [
    "#Split the dataset into positive and negative data\n",
    "df_positive = df.loc[df['sentiment'] == 1]\n",
    "df_negative = df.loc[df['sentiment'] == 0]"
   ]
  },
  {
   "cell_type": "code",
   "execution_count": 24,
   "id": "b19c4c42",
   "metadata": {
    "scrolled": true
   },
   "outputs": [
    {
     "data": {
      "text/html": [
       "<div>\n",
       "<style scoped>\n",
       "    .dataframe tbody tr th:only-of-type {\n",
       "        vertical-align: middle;\n",
       "    }\n",
       "\n",
       "    .dataframe tbody tr th {\n",
       "        vertical-align: top;\n",
       "    }\n",
       "\n",
       "    .dataframe thead th {\n",
       "        text-align: right;\n",
       "    }\n",
       "</style>\n",
       "<table border=\"1\" class=\"dataframe\">\n",
       "  <thead>\n",
       "    <tr style=\"text-align: right;\">\n",
       "      <th></th>\n",
       "      <th>Comment</th>\n",
       "      <th>Star</th>\n",
       "      <th>sentiment</th>\n",
       "    </tr>\n",
       "  </thead>\n",
       "  <tbody>\n",
       "    <tr>\n",
       "      <th>3</th>\n",
       "      <td>铁人 中 勾引 钢铁 侠 妇联 中 勾引 鹰眼 美队 中 勾引 美国 队长 妇联 中 终...</td>\n",
       "      <td>4.0</td>\n",
       "      <td>1</td>\n",
       "    </tr>\n",
       "    <tr>\n",
       "      <th>10</th>\n",
       "      <td>黑暗面 值得 信任   第二部 剥去 冗长 铺垫 开场 高潮 结束 有人 觉得 剩 动作...</td>\n",
       "      <td>4.0</td>\n",
       "      <td>1</td>\n",
       "    </tr>\n",
       "    <tr>\n",
       "      <th>16</th>\n",
       "      <td>总体 达到 第一部 想 二刷 体验 搞笑 燃度 不够 劲 应 续集 电影 疲软 定律 出...</td>\n",
       "      <td>4.0</td>\n",
       "      <td>1</td>\n",
       "    </tr>\n",
       "    <tr>\n",
       "      <th>17</th>\n",
       "      <td>机甲 之战 超超 好看 变形金刚 强 神 变异 人工智能 互殴 强强 强强 一小 段末句...</td>\n",
       "      <td>5.0</td>\n",
       "      <td>1</td>\n",
       "    </tr>\n",
       "    <tr>\n",
       "      <th>19</th>\n",
       "      <td>全程 挥之不去 美队 胸 banner 胸 毛 人物 太 感情 处理 不够 细腻 一定 ...</td>\n",
       "      <td>4.0</td>\n",
       "      <td>1</td>\n",
       "    </tr>\n",
       "    <tr>\n",
       "      <th>...</th>\n",
       "      <td>...</td>\n",
       "      <td>...</td>\n",
       "      <td>...</td>\n",
       "    </tr>\n",
       "    <tr>\n",
       "      <th>76431</th>\n",
       "      <td>全员 演技 在线 百合 味 很浓 深得 朕 心 233</td>\n",
       "      <td>4.0</td>\n",
       "      <td>1</td>\n",
       "    </tr>\n",
       "    <tr>\n",
       "      <th>76432</th>\n",
       "      <td>不想 消失 背负 世界 所有人 谎言 中</td>\n",
       "      <td>4.0</td>\n",
       "      <td>1</td>\n",
       "    </tr>\n",
       "    <tr>\n",
       "      <th>76433</th>\n",
       "      <td>周 冬雨 演 非主流 挺 专业 真 高圆圆</td>\n",
       "      <td>4.0</td>\n",
       "      <td>1</td>\n",
       "    </tr>\n",
       "    <tr>\n",
       "      <th>76434</th>\n",
       "      <td>口碑 不错 真的 不错 尴尬 配乐   演技 100 分 剧情 流畅 故事 讲清楚   觉得</td>\n",
       "      <td>4.0</td>\n",
       "      <td>1</td>\n",
       "    </tr>\n",
       "    <tr>\n",
       "      <th>76435</th>\n",
       "      <td>20160918 苏州 卢米 埃 故事 矫情 看好 周 冬雨 演技</td>\n",
       "      <td>4.0</td>\n",
       "      <td>1</td>\n",
       "    </tr>\n",
       "  </tbody>\n",
       "</table>\n",
       "<p>40257 rows × 3 columns</p>\n",
       "</div>"
      ],
      "text/plain": [
       "                                                 Comment  Star  sentiment\n",
       "3        铁人 中 勾引 钢铁 侠 妇联 中 勾引 鹰眼 美队 中 勾引 美国 队长 妇联 中 终...   4.0          1\n",
       "10       黑暗面 值得 信任   第二部 剥去 冗长 铺垫 开场 高潮 结束 有人 觉得 剩 动作...   4.0          1\n",
       "16       总体 达到 第一部 想 二刷 体验 搞笑 燃度 不够 劲 应 续集 电影 疲软 定律 出...   4.0          1\n",
       "17       机甲 之战 超超 好看 变形金刚 强 神 变异 人工智能 互殴 强强 强强 一小 段末句...   5.0          1\n",
       "19       全程 挥之不去 美队 胸 banner 胸 毛 人物 太 感情 处理 不够 细腻 一定 ...   4.0          1\n",
       "...                                                  ...   ...        ...\n",
       "76431                       全员 演技 在线 百合 味 很浓 深得 朕 心 233    4.0          1\n",
       "76432                              不想 消失 背负 世界 所有人 谎言 中    4.0          1\n",
       "76433                             周 冬雨 演 非主流 挺 专业 真 高圆圆    4.0          1\n",
       "76434    口碑 不错 真的 不错 尴尬 配乐   演技 100 分 剧情 流畅 故事 讲清楚   觉得    4.0          1\n",
       "76435                 20160918 苏州 卢米 埃 故事 矫情 看好 周 冬雨 演技    4.0          1\n",
       "\n",
       "[40257 rows x 3 columns]"
      ]
     },
     "execution_count": 24,
     "metadata": {},
     "output_type": "execute_result"
    }
   ],
   "source": [
    "df_positive"
   ]
  },
  {
   "cell_type": "code",
   "execution_count": 25,
   "id": "247f34ba",
   "metadata": {},
   "outputs": [],
   "source": [
    "#Extract the comment column for K-Means Analysis\n",
    "positive_words = df_positive['Comment']\n",
    "negative_words = df_negative['Comment']"
   ]
  },
  {
   "cell_type": "code",
   "execution_count": 26,
   "id": "8dfff810",
   "metadata": {},
   "outputs": [
    {
     "name": "stdout",
     "output_type": "stream",
     "text": [
      "CPU times: user 3.36 s, sys: 130 ms, total: 3.49 s\n",
      "Wall time: 3.52 s\n",
      "(40257, 2384)\n"
     ]
    }
   ],
   "source": [
    "#Set up TFIDF vectorizer to vectorize positive comment\n",
    "from sklearn.feature_extraction.text import TfidfVectorizer\n",
    "\n",
    "positive_vectorizer = TfidfVectorizer(max_df=0.8, max_features=200000,#If terms appear more than 80% of the document,drop them\n",
    "                                  min_df=0.001,stop_words='english',#If terms appear less than 1% of the document,drop them\n",
    "                                 use_idf=True,  ngram_range=(1,3)) #Also consider 1 to 3 grams\n",
    "\n",
    "%time positive_matrix = positive_vectorizer.fit_transform(positive_words)\n",
    "\n",
    "print(positive_matrix.shape)"
   ]
  },
  {
   "cell_type": "code",
   "execution_count": 27,
   "id": "6fccb0c1",
   "metadata": {},
   "outputs": [
    {
     "name": "stdout",
     "output_type": "stream",
     "text": [
      "CPU times: user 1.32 s, sys: 31.2 ms, total: 1.35 s\n",
      "Wall time: 1.36 s\n",
      "(21453, 1888)\n"
     ]
    }
   ],
   "source": [
    "from sklearn.feature_extraction.text import TfidfVectorizer\n",
    "\n",
    "negative_vectorizer = TfidfVectorizer(max_df=0.8, max_features=200000,#If terms appear more than 80% of the document,drop them\n",
    "                                  min_df=0.001,stop_words='english',#If terms appear less than 1% of the document,drop them\n",
    "                                 use_idf=True,  ngram_range=(1,3))#Also consider 1 to 3 grams\n",
    "\n",
    "%time negative_matrix = negative_vectorizer.fit_transform(negative_words)\n",
    "\n",
    "print(negative_matrix.shape)"
   ]
  },
  {
   "cell_type": "code",
   "execution_count": 28,
   "id": "7dfd6ff5",
   "metadata": {},
   "outputs": [],
   "source": [
    "#Save the positive terms into a dataframe\n",
    "positive_terms = positive_vectorizer.get_feature_names()\n",
    "positive_frame = pd.DataFrame({'words': positive_terms},index = positive_terms)"
   ]
  },
  {
   "cell_type": "code",
   "execution_count": 29,
   "id": "ccda9506",
   "metadata": {},
   "outputs": [],
   "source": [
    "#Save the negative terms into a dataframe\n",
    "negative_terms = negative_vectorizer.get_feature_names()\n",
    "negative_frame = pd.DataFrame({'words': negative_terms},index = negative_terms)"
   ]
  },
  {
   "cell_type": "code",
   "execution_count": 30,
   "id": "d94334d9",
   "metadata": {},
   "outputs": [
    {
     "name": "stdout",
     "output_type": "stream",
     "text": [
      "['平行', '平行 世界', '平衡', '平衡 一下', '平静', '年代', '年前', '年度', '年度 最佳', '年纪', '年轻', '年轻人', '幸好', '幸福', '幸运', '幻想', '幻视', '幼稚', '幽默', '庄子', '庆幸', '应该', '度过', '延续', '建议', '开场', '开头', '开心', '开心 麻花', '开篇', '引起', '张力', '张涵予', '张涵予 彭于', '弥补', '强大', '强强', '强强 联手', '强烈', '强烈推荐', '强行', '归来', '当初', '当年', '当时', '形容', '形式', '形象', '彩蛋', '彭于']\n",
      "['拙劣', '招牌', '拜托', '拯救', '拼凑', '拿出', '捞钱', '换个', '换成', '换来', '接受', '推动', '推敲', '推荐', '推进', '掩盖', '提前', '提高', '插曲', '搞不懂', '搞笑', '摄影', '撑起', '支持', '支持 国产', '支持 国漫', '支撑', '支离破碎', '改变', '改名', '改成', '改编', '放在', '放弃', '放心', '放过', '故事', '故事 不好', '故事 真的', '故事 逻辑', '故事性', '故事情节', '故作', '效果', '教主', '整个', '整个 故事', '整个 片子', '整个 电影', '整体']\n"
     ]
    }
   ],
   "source": [
    "print(positive_terms[1000:1050])\n",
    "print(negative_terms[1000:1050])"
   ]
  },
  {
   "cell_type": "code",
   "execution_count": 31,
   "id": "f1938dfb",
   "metadata": {},
   "outputs": [],
   "source": [
    "# function returns WSS score for k values from 1 to kmax\n",
    "def calculate_WSS(matrix, kmax):\n",
    "  sse = []\n",
    "  for k in range(1, kmax+1):\n",
    "    kmeans = KMeans(n_clusters = k).fit(matrix)\n",
    "    # Sum of squared distances of samples to their closest cluster center.\n",
    "    curr_sse = kmeans.inertia_\n",
    "    sse.append(curr_sse)\n",
    "  return sse"
   ]
  },
  {
   "cell_type": "code",
   "execution_count": 32,
   "id": "fe97847d",
   "metadata": {},
   "outputs": [
    {
     "name": "stdout",
     "output_type": "stream",
     "text": [
      "WSS [39127.11603276688, 38932.97675659491, 38736.030829298914, 38569.00952206963, 38429.478402743465, 38290.54699411306, 38183.710298051505, 38055.71082535224, 37977.2639110274, 37838.491229513354]\n"
     ]
    },
    {
     "data": {
      "image/png": "[encoded data removed]",
      "text/plain": [
       "<Figure size 864x432 with 1 Axes>"
      ]
     },
     "metadata": {
      "needs_background": "light"
     },
     "output_type": "display_data"
    }
   ],
   "source": [
    "#Caculate the WSS for 1 to 20 positive documents clustering models, try to find out the elbow point \n",
    "WSS = calculate_WSS(positive_matrix,10)\n",
    "print('WSS',WSS)\n",
    "plt.figure(figsize=(12,6))\n",
    "plt.plot(range(1,11),WSS, marker='o')\n",
    "plt.xlabel('Number of clusters')\n",
    "plt.ylabel('Inertia')\n",
    "plt.show()"
   ]
  },
  {
   "cell_type": "code",
   "execution_count": 81,
   "id": "1b0ab47f",
   "metadata": {},
   "outputs": [
    {
     "name": "stdout",
     "output_type": "stream",
     "text": [
      "WSS [20681.405565345598, 20529.112910428372, 20398.52812576896, 20304.39181321747, 20246.2137187311, 20164.349207699586, 20093.759407042013, 20027.564919034263, 19969.09238276908, 19934.3829119906]\n"
     ]
    },
    {
     "data": {
      "image/png": "[encoded data removed]",
      "text/plain": [
       "<Figure size 864x432 with 1 Axes>"
      ]
     },
     "metadata": {
      "needs_background": "light"
     },
     "output_type": "display_data"
    }
   ],
   "source": [
    "#Caculate the WSS for 1 to 20 negative documents clustering models, try to find out the elbow point \n",
    "WSS = calculate_WSS(negative_matrix,10)\n",
    "print('WSS',WSS)\n",
    "plt.figure(figsize=(12,6))\n",
    "plt.plot(range(1,11),WSS, marker='o')\n",
    "plt.xlabel('Number of clusters')\n",
    "plt.ylabel('Inertia')\n",
    "plt.show()"
   ]
  },
  {
   "cell_type": "code",
   "execution_count": 84,
   "id": "7f6a6d66",
   "metadata": {},
   "outputs": [
    {
     "name": "stdout",
     "output_type": "stream",
     "text": [
      "CPU times: user 40.6 s, sys: 2.02 s, total: 42.7 s\n",
      "Wall time: 6.6 s\n"
     ]
    }
   ],
   "source": [
    "#Choose K=10 to trian the positive documents clustering model\n",
    "#Although it had not reach elbow points, to many clusters will be none sense\n",
    "np.random.seed(2333)\n",
    "num_clusters = 10\n",
    "km = KMeans(n_clusters=num_clusters)\n",
    "%time km.fit(positive_matrix)\n",
    "\n",
    "positive_clusters = km.labels_.tolist()"
   ]
  },
  {
   "cell_type": "code",
   "execution_count": 83,
   "id": "94ce144e",
   "metadata": {},
   "outputs": [
    {
     "name": "stdout",
     "output_type": "stream",
     "text": [
      "CPU times: user 15.1 s, sys: 960 ms, total: 16 s\n",
      "Wall time: 2.47 s\n"
     ]
    }
   ],
   "source": [
    "#Choose K=10 to trian the negative documents clustering model \n",
    "#Although it had not reach elbow points, to many clusters will be none sense\n",
    "np.random.seed(2333)\n",
    "num_clusters = 10\n",
    "km_negative = KMeans(n_clusters=num_clusters)\n",
    "%time km_negative.fit(negative_matrix)\n",
    "\n",
    "negative_clusters = km_negative.labels_.tolist()"
   ]
  },
  {
   "cell_type": "code",
   "execution_count": 85,
   "id": "6627ac91",
   "metadata": {
    "scrolled": true
   },
   "outputs": [
    {
     "name": "stderr",
     "output_type": "stream",
     "text": [
      "<ipython-input-85-209ebc59052b>:1: SettingWithCopyWarning: \n",
      "A value is trying to be set on a copy of a slice from a DataFrame.\n",
      "Try using .loc[row_indexer,col_indexer] = value instead\n",
      "\n",
      "See the caveats in the documentation: https://pandas.pydata.org/pandas-docs/stable/user_guide/indexing.html#returning-a-view-versus-a-copy\n",
      "  df_positive['Cluster'] = positive_clusters\n"
     ]
    },
    {
     "data": {
      "text/plain": [
       "0    20964\n",
       "6     4317\n",
       "4     4036\n",
       "7     3427\n",
       "8     1856\n",
       "3     1735\n",
       "5     1634\n",
       "9      892\n",
       "1      821\n",
       "2      575\n",
       "Name: Cluster, dtype: int64"
      ]
     },
     "execution_count": 85,
     "metadata": {},
     "output_type": "execute_result"
    }
   ],
   "source": [
    "#Check the number of records in each positive cluster\n",
    "df_positive['Cluster'] = positive_clusters\n",
    "df_positive['Cluster'].value_counts()"
   ]
  },
  {
   "cell_type": "code",
   "execution_count": 86,
   "id": "ac588e4e",
   "metadata": {},
   "outputs": [
    {
     "name": "stderr",
     "output_type": "stream",
     "text": [
      "<ipython-input-86-63452628f7fb>:1: SettingWithCopyWarning: \n",
      "A value is trying to be set on a copy of a slice from a DataFrame.\n",
      "Try using .loc[row_indexer,col_indexer] = value instead\n",
      "\n",
      "See the caveats in the documentation: https://pandas.pydata.org/pandas-docs/stable/user_guide/indexing.html#returning-a-view-versus-a-copy\n",
      "  df_negative['Cluster'] = negative_clusters\n"
     ]
    },
    {
     "data": {
      "text/plain": [
       "0    11557\n",
       "3     2211\n",
       "2     2003\n",
       "8     1204\n",
       "7      934\n",
       "5      912\n",
       "1      895\n",
       "9      640\n",
       "6      638\n",
       "4      459\n",
       "Name: Cluster, dtype: int64"
      ]
     },
     "execution_count": 86,
     "metadata": {},
     "output_type": "execute_result"
    }
   ],
   "source": [
    "#Check the number of records in each negative cluster\n",
    "df_negative['Cluster'] = negative_clusters\n",
    "df_negative['Cluster'].value_counts()"
   ]
  },
  {
   "cell_type": "code",
   "execution_count": 62,
   "id": "7aa115c4",
   "metadata": {
    "scrolled": true
   },
   "outputs": [
    {
     "name": "stdout",
     "output_type": "stream",
     "text": [
      "Cluster 0 has average 4.136245539889839 stars\n",
      "Cluster 1 has average 3.979937737806987 stars\n",
      "Cluster 2 has average 4.316283435007039 stars\n",
      "Cluster 3 has average 4.190454545454545 stars\n",
      "Cluster 4 has average 4.302369077306733 stars\n",
      "Cluster 5 has average 4.358479179239589 stars\n",
      "Cluster 6 has average 4.422740524781341 stars\n",
      "Cluster 7 has average 3.9426723176444347 stars\n",
      "Cluster 8 has average 4.132894736842105 stars\n",
      "Cluster 9 has average 3.971311475409836 stars\n"
     ]
    }
   ],
   "source": [
    "#Check the average star for each cluster, higher stars means higher compliment in positive reviews\n",
    "grouped = df_positive['Star'].groupby(df_positive['Cluster'])\n",
    "count = 0\n",
    "for i in grouped.mean():\n",
    "    print('Cluster {} has average {} stars'.format(count,i))\n",
    "    count += 1"
   ]
  },
  {
   "cell_type": "code",
   "execution_count": 87,
   "id": "d5a106d4",
   "metadata": {
    "scrolled": false
   },
   "outputs": [
    {
     "name": "stdout",
     "output_type": "stream",
     "text": [
      "Cluster 0 has average 1.415217583193574 stars\n",
      "Cluster 1 has average 1.5343855693348365 stars\n",
      "Cluster 2 has average 1.3092470944921677 stars\n",
      "Cluster 3 has average 1.5636942675159236 stars\n",
      "Cluster 4 has average 1.5132743362831858 stars\n",
      "Cluster 5 has average 1.4266666666666667 stars\n",
      "Cluster 6 has average 1.3528481012658229 stars\n",
      "Cluster 7 has average 1.3987138263665595 stars\n",
      "Cluster 8 has average 1.6090225563909775 stars\n",
      "Cluster 9 has average 1.171875 stars\n"
     ]
    }
   ],
   "source": [
    "#Check the average star for each cluster, lower stars means hasher criticism in negative reviews\n",
    "grouped = df_negative['Star'].groupby(df_negative['Cluster'])\n",
    "count = 0\n",
    "for i in grouped.mean():\n",
    "    print('Cluster {} has average {} stars'.format(count,i))\n",
    "    count += 1"
   ]
  },
  {
   "cell_type": "code",
   "execution_count": 108,
   "id": "6a4097ee",
   "metadata": {},
   "outputs": [
    {
     "name": "stdout",
     "output_type": "stream",
     "text": [
      "cluster0:\n",
      "['觉得', '故事', '真的', '梦想', '不错', '看到', '大圣', '爱情', '五星', '感觉']\n",
      "cluster1:\n",
      "['电影院', '电影', '值得 电影院', '值得', '真的', '第一次', '看到', '觉得', '不错', '感觉']\n",
      "cluster2:\n",
      "['七月', '安生', '七月 安生', '安生 七月', '冬雨', '生活', '人生', '每个', '活成', '电影']\n",
      "cluster3:\n",
      "['好看', '觉得 好看', '觉得', '真的', '真的 好看', '好看 好看', '电影', '剧情', '电影 好看', '特别']\n",
      "cluster4:\n",
      "['特效', '星爷', '周星驰', '徐克', '吴亦凡', '西游', '不错', '演技', '唐僧', '剧情']\n",
      "cluster5:\n",
      "['喜欢', '喜欢 喜欢', '电影', '这种', '觉得', '好看', '喜欢 这种', '真的', '不错', '故事']\n",
      "cluster6:\n",
      "['电影', '这部', '这部 电影', '一部', '一部 电影', '觉得', '真的', '不错', '青春', '中国']\n",
      "cluster7:\n",
      "['画面', '剧情', '音乐', '故事', '不错', '配乐', '真的', '觉得', '中国', '有点']\n",
      "cluster8:\n",
      "['国产', '动画', '国产 动画', '良心', '中国', '动漫', '支持', '国产 动漫', '剧情', '希望']\n",
      "cluster9:\n",
      "['冬雨', '演技', '马思纯', '冬雨 演技', '不错', '冬雨 马思纯', '青春片', '安妮', '安妮 宝贝', '宝贝']\n"
     ]
    }
   ],
   "source": [
    "#Use cluster centroids as the key words represent the meaning of each cluster in positive reviews\n",
    "order_centroids = km.cluster_centers_.argsort()[:, ::-1] \n",
    "for i in range(num_clusters):\n",
    "    word_list=[]\n",
    "    print(\"cluster%d:\"% i)\n",
    "    for j in order_centroids[i,:10]:\n",
    "        word_list.append(positive_terms[j])\n",
    "    print(word_list) \n",
    "#Some clusters represent purely compliment such as cluster 5 and 6\n",
    "#While other like cluster 8 represents specific meaning of preference to domestic anime  "
   ]
  },
  {
   "cell_type": "code",
   "execution_count": 106,
   "id": "cb984161",
   "metadata": {},
   "outputs": [
    {
     "name": "stdout",
     "output_type": "stream",
     "text": [
      "cluster0:\n",
      "['片子', '觉得', '特效', '演技', '导演', '真是', '看到', '时代', '感觉', '一颗']\n",
      "cluster1:\n",
      "['尴尬', '吴亦凡', '演技', '特效', '台词', '全程', '剧情', '吴亦凡 演技', '全程 尴尬', '演技 尴尬']\n",
      "cluster2:\n",
      "['电影', '这部 电影', '这部', '一部', '一部 电影', '看过', '这种', '中国', '导演', '中国 电影']\n",
      "cluster3:\n",
      "['剧情', '画面', '台词', '音乐', '特效', '不错', '女主', '配乐', '画面 剧情', '演技']\n",
      "cluster4:\n",
      "['好看', '觉得', '真的 好看', '觉得 好看', '真的', '电影', '剧情', '电视剧', '真心', '好看 剧情']\n",
      "cluster5:\n",
      "['真的', '电影', '剧情', '演技', '剧情 真的', '觉得', '特效', '吴亦凡', '难看', '失望']\n",
      "cluster6:\n",
      "['知道', '电影', '完全', '看过', '剧情', '完全 知道', '表达', '真的', '知道 表达', '片子']\n",
      "cluster7:\n",
      "['一星', '一星 特效', '一星 画面', '特效', '画面', '画面 一星', '剧情', '一星 画面 一星', '特效 一星', '电影']\n",
      "cluster8:\n",
      "['故事', '画面', '特效', '电影', '备胎', '剧情', '不好', '情怀', '人物', '逻辑']\n",
      "cluster9:\n",
      "['烂片', '一部', '一部 烂片', '电影', '这种', '这种 烂片', '一星', '烂片 烂片', '这部', '演技']\n"
     ]
    }
   ],
   "source": [
    "#Use cluster centroids as the key words represent the meaning of each cluster in negative reviews\n",
    "order_centroids = km_negative.cluster_centers_.argsort()[:, ::-1] \n",
    "for i in range(num_clusters):\n",
    "    word_list=[]\n",
    "    print(\"cluster%d:\"% i)\n",
    "    for j in order_centroids[i,:10]:\n",
    "        word_list.append(negative_terms[j])\n",
    "    print(word_list) \n",
    "    \n",
    "#Some clusters represent purely criticism such as cluster 9 and 2\n",
    "#While other like cluster 1 represents specific meaning of antipathy of some characters such as Chris Wu"
   ]
  },
  {
   "cell_type": "code",
   "execution_count": 93,
   "id": "7bfbb9e9",
   "metadata": {},
   "outputs": [],
   "source": [
    "#Transfrom the comments from Cluster 8 in positive reviews into text file. \n",
    "Group8 = df_positive[lambda df_positive: df_positive['Cluster'] == 8] \n",
    "Group8_terms = Group8['Comment']\n",
    "\n",
    "#After cut and removed Stop words, check the words in Cluster 8\n",
    "vectorizer = CountVectorizer()\n",
    "Group8_text = ''\n",
    "for word in Group8_terms:\n",
    "    allwords = word.split(' ')\n",
    "    allwords_tfidf = [word for word in allwords if word in terms]\n",
    "    for i in allwords_tfidf:\n",
    "        Group8_text += i\n",
    "        Group8_text += ' '\n",
    "    \n",
    "f = open(\"Group8.txt\",'w',encoding='utf-8') \n",
    "f.write(Group8_text)  \n",
    "f.close()"
   ]
  },
  {
   "cell_type": "code",
   "execution_count": 94,
   "id": "efe47b61",
   "metadata": {},
   "outputs": [],
   "source": [
    "#Creat word cloud to understand the deeper meaning of Cluster 8 \n",
    "import stylecloud\n",
    "from palettable.cartocolors.sequential import BluGrn_7\n",
    "\n",
    "stylecloud.gen_stylecloud(file_path = \"Group8.txt\",\n",
    "                          font_path = 'SourceHanSansCN-Regular-2.otf',\n",
    "                          size = 500,\n",
    "                          output_name = 'Group8.png',\n",
    "                          icon_name = \"fas fa-map-marked\",\n",
    "                          palette = 'cartocolors.sequential.BluGrn_7',\n",
    "                          background_color='white',\n",
    "                          gradient='horizontal')"
   ]
  },
  {
   "cell_type": "code",
   "execution_count": 95,
   "id": "8474456c",
   "metadata": {},
   "outputs": [],
   "source": [
    "#Transfrom the comments from Cluster 1 in negative reviews into text file.\n",
    "Group1 = df_negative[lambda df_negative: df_negative['Cluster'] == 1] \n",
    "Group1_terms = Group1['Comment']\n",
    "\n",
    "#After cut and removed Stop words, check the words in Cluster 1\n",
    "Group1_text = ''\n",
    "for word in Group1_terms:\n",
    "    allwords = word.split(' ')\n",
    "    allwords_tfidf = [word for word in allwords if word in negative_terms]\n",
    "    for i in allwords_tfidf:\n",
    "        Group1_text += i\n",
    "        Group1_text += ' '\n",
    "    \n",
    "f = open(\"Group1.txt\",'w',encoding='utf-8') \n",
    "f.write(Group1_text)  \n",
    "f.close()"
   ]
  },
  {
   "cell_type": "code",
   "execution_count": 97,
   "id": "06a77d00",
   "metadata": {},
   "outputs": [],
   "source": [
    "#Creat word cloud to understand the deeper meaning of Cluster 1 \n",
    "import stylecloud\n",
    "from palettable.cartocolors.sequential import RedOr_7\n",
    "\n",
    "stylecloud.gen_stylecloud(file_path = \"Group1.txt\",\n",
    "                          font_path = 'SourceHanSansCN-Regular-2.otf',\n",
    "                          size = 500,\n",
    "                          output_name = 'Group1.png',\n",
    "                          icon_name = \"fas fa-heart-broken\",\n",
    "                          palette = 'cartocolors.sequential.RedOr_7',\n",
    "                          background_color='white',\n",
    "                          gradient='horizontal')"
   ]
  }
 ],
 "metadata": {
  "kernelspec": {
   "display_name": "Python 3",
   "language": "python",
   "name": "python3"
  },
  "language_info": {
   "codemirror_mode": {
    "name": "ipython",
    "version": 3
   },
   "file_extension": ".py",
   "mimetype": "text/x-python",
   "name": "python",
   "nbconvert_exporter": "python",
   "pygments_lexer": "ipython3",
   "version": "3.8.8"
  }
 },
 "nbformat": 4,
 "nbformat_minor": 5
}
